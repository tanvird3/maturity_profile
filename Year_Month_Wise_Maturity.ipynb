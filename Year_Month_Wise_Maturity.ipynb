{
 "cells": [
  {
   "cell_type": "code",
   "execution_count": 1,
   "metadata": {},
   "outputs": [
    {
     "data": {
      "application/javascript": [
       "\n",
       "            setTimeout(function() {\n",
       "                var nbb_cell_id = 1;\n",
       "                var nbb_formatted_code = \"%load_ext nb_black\";\n",
       "                var nbb_cells = Jupyter.notebook.get_cells();\n",
       "                for (var i = 0; i < nbb_cells.length; ++i) {\n",
       "                    if (nbb_cells[i].input_prompt_number == nbb_cell_id) {\n",
       "                        nbb_cells[i].set_text(nbb_formatted_code);\n",
       "                        break;\n",
       "                    }\n",
       "                }\n",
       "            }, 500);\n",
       "            "
      ],
      "text/plain": [
       "<IPython.core.display.Javascript object>"
      ]
     },
     "metadata": {},
     "output_type": "display_data"
    }
   ],
   "source": [
    "%load_ext nb_black"
   ]
  },
  {
   "cell_type": "code",
   "execution_count": 2,
   "metadata": {},
   "outputs": [
    {
     "data": {
      "application/javascript": [
       "\n",
       "            setTimeout(function() {\n",
       "                var nbb_cell_id = 2;\n",
       "                var nbb_formatted_code = \"# import the libraries\\nimport pandas as pd\\nimport numpy as np\";\n",
       "                var nbb_cells = Jupyter.notebook.get_cells();\n",
       "                for (var i = 0; i < nbb_cells.length; ++i) {\n",
       "                    if (nbb_cells[i].input_prompt_number == nbb_cell_id) {\n",
       "                        nbb_cells[i].set_text(nbb_formatted_code);\n",
       "                        break;\n",
       "                    }\n",
       "                }\n",
       "            }, 500);\n",
       "            "
      ],
      "text/plain": [
       "<IPython.core.display.Javascript object>"
      ]
     },
     "metadata": {},
     "output_type": "display_data"
    }
   ],
   "source": [
    "# import the libraries\n",
    "import pandas as pd\n",
    "import numpy as np"
   ]
  },
  {
   "cell_type": "code",
   "execution_count": 3,
   "metadata": {},
   "outputs": [
    {
     "data": {
      "application/javascript": [
       "\n",
       "            setTimeout(function() {\n",
       "                var nbb_cell_id = 3;\n",
       "                var nbb_formatted_code = \"# read the data\\nscheme_ac = pd.read_excel(\\\"F:\\\\GoogleDrive\\\\python\\\\mds1410.xlsx\\\")\";\n",
       "                var nbb_cells = Jupyter.notebook.get_cells();\n",
       "                for (var i = 0; i < nbb_cells.length; ++i) {\n",
       "                    if (nbb_cells[i].input_prompt_number == nbb_cell_id) {\n",
       "                        nbb_cells[i].set_text(nbb_formatted_code);\n",
       "                        break;\n",
       "                    }\n",
       "                }\n",
       "            }, 500);\n",
       "            "
      ],
      "text/plain": [
       "<IPython.core.display.Javascript object>"
      ]
     },
     "metadata": {},
     "output_type": "display_data"
    }
   ],
   "source": [
    "# read the data\n",
    "scheme_ac = pd.read_excel(\"F:\\GoogleDrive\\python\\mds1410.xlsx\")"
   ]
  },
  {
   "cell_type": "code",
   "execution_count": 4,
   "metadata": {},
   "outputs": [
    {
     "data": {
      "application/javascript": [
       "\n",
       "            setTimeout(function() {\n",
       "                var nbb_cell_id = 4;\n",
       "                var nbb_formatted_code = \"# filter out the unecessary rows\\nscheme_ac = scheme_ac[pd.notnull(scheme_ac[\\\"Rate\\\"])]\";\n",
       "                var nbb_cells = Jupyter.notebook.get_cells();\n",
       "                for (var i = 0; i < nbb_cells.length; ++i) {\n",
       "                    if (nbb_cells[i].input_prompt_number == nbb_cell_id) {\n",
       "                        nbb_cells[i].set_text(nbb_formatted_code);\n",
       "                        break;\n",
       "                    }\n",
       "                }\n",
       "            }, 500);\n",
       "            "
      ],
      "text/plain": [
       "<IPython.core.display.Javascript object>"
      ]
     },
     "metadata": {},
     "output_type": "display_data"
    }
   ],
   "source": [
    "# filter out the unecessary rows\n",
    "scheme_ac = scheme_ac[pd.notnull(scheme_ac[\"Rate\"])]"
   ]
  },
  {
   "cell_type": "code",
   "execution_count": 5,
   "metadata": {},
   "outputs": [
    {
     "data": {
      "application/javascript": [
       "\n",
       "            setTimeout(function() {\n",
       "                var nbb_cell_id = 5;\n",
       "                var nbb_formatted_code = \"# scheme_ac.head(1)\";\n",
       "                var nbb_cells = Jupyter.notebook.get_cells();\n",
       "                for (var i = 0; i < nbb_cells.length; ++i) {\n",
       "                    if (nbb_cells[i].input_prompt_number == nbb_cell_id) {\n",
       "                        nbb_cells[i].set_text(nbb_formatted_code);\n",
       "                        break;\n",
       "                    }\n",
       "                }\n",
       "            }, 500);\n",
       "            "
      ],
      "text/plain": [
       "<IPython.core.display.Javascript object>"
      ]
     },
     "metadata": {},
     "output_type": "display_data"
    }
   ],
   "source": [
    "# scheme_ac.head(1)"
   ]
  },
  {
   "cell_type": "code",
   "execution_count": 6,
   "metadata": {},
   "outputs": [
    {
     "data": {
      "application/javascript": [
       "\n",
       "            setTimeout(function() {\n",
       "                var nbb_cell_id = 6;\n",
       "                var nbb_formatted_code = \"# scheme_ac.columns.values\";\n",
       "                var nbb_cells = Jupyter.notebook.get_cells();\n",
       "                for (var i = 0; i < nbb_cells.length; ++i) {\n",
       "                    if (nbb_cells[i].input_prompt_number == nbb_cell_id) {\n",
       "                        nbb_cells[i].set_text(nbb_formatted_code);\n",
       "                        break;\n",
       "                    }\n",
       "                }\n",
       "            }, 500);\n",
       "            "
      ],
      "text/plain": [
       "<IPython.core.display.Javascript object>"
      ]
     },
     "metadata": {},
     "output_type": "display_data"
    }
   ],
   "source": [
    "# scheme_ac.columns.values"
   ]
  },
  {
   "cell_type": "code",
   "execution_count": 7,
   "metadata": {},
   "outputs": [
    {
     "data": {
      "application/javascript": [
       "\n",
       "            setTimeout(function() {\n",
       "                var nbb_cell_id = 7;\n",
       "                var nbb_formatted_code = \"# clean the column names\\nscheme_ac.columns = scheme_ac.columns.str.replace(\\\"\\\\n\\\", \\\" \\\").str.replace(\\\" +\\\", \\\" \\\")\";\n",
       "                var nbb_cells = Jupyter.notebook.get_cells();\n",
       "                for (var i = 0; i < nbb_cells.length; ++i) {\n",
       "                    if (nbb_cells[i].input_prompt_number == nbb_cell_id) {\n",
       "                        nbb_cells[i].set_text(nbb_formatted_code);\n",
       "                        break;\n",
       "                    }\n",
       "                }\n",
       "            }, 500);\n",
       "            "
      ],
      "text/plain": [
       "<IPython.core.display.Javascript object>"
      ]
     },
     "metadata": {},
     "output_type": "display_data"
    }
   ],
   "source": [
    "# clean the column names\n",
    "scheme_ac.columns = scheme_ac.columns.str.replace(\"\\n\", \" \").str.replace(\" +\", \" \")"
   ]
  },
  {
   "cell_type": "code",
   "execution_count": 8,
   "metadata": {},
   "outputs": [
    {
     "data": {
      "application/javascript": [
       "\n",
       "            setTimeout(function() {\n",
       "                var nbb_cell_id = 8;\n",
       "                var nbb_formatted_code = \"# get the maturity months\\nscheme_ac[\\\"Month\\\"] = scheme_ac[\\\"Maturity Date\\\"].dt.month\";\n",
       "                var nbb_cells = Jupyter.notebook.get_cells();\n",
       "                for (var i = 0; i < nbb_cells.length; ++i) {\n",
       "                    if (nbb_cells[i].input_prompt_number == nbb_cell_id) {\n",
       "                        nbb_cells[i].set_text(nbb_formatted_code);\n",
       "                        break;\n",
       "                    }\n",
       "                }\n",
       "            }, 500);\n",
       "            "
      ],
      "text/plain": [
       "<IPython.core.display.Javascript object>"
      ]
     },
     "metadata": {},
     "output_type": "display_data"
    }
   ],
   "source": [
    "# get the maturity months\n",
    "scheme_ac[\"Month\"] = scheme_ac[\"Maturity Date\"].dt.month"
   ]
  },
  {
   "cell_type": "code",
   "execution_count": 9,
   "metadata": {},
   "outputs": [
    {
     "data": {
      "application/javascript": [
       "\n",
       "            setTimeout(function() {\n",
       "                var nbb_cell_id = 9;\n",
       "                var nbb_formatted_code = \"# get the maturity dates\\nscheme_ac[\\\"Year\\\"] = scheme_ac[\\\"Maturity Date\\\"].dt.year\\nscheme_ac[\\\"Year\\\"] = scheme_ac[\\\"Year\\\"].astype(\\\"int64\\\")\";\n",
       "                var nbb_cells = Jupyter.notebook.get_cells();\n",
       "                for (var i = 0; i < nbb_cells.length; ++i) {\n",
       "                    if (nbb_cells[i].input_prompt_number == nbb_cell_id) {\n",
       "                        nbb_cells[i].set_text(nbb_formatted_code);\n",
       "                        break;\n",
       "                    }\n",
       "                }\n",
       "            }, 500);\n",
       "            "
      ],
      "text/plain": [
       "<IPython.core.display.Javascript object>"
      ]
     },
     "metadata": {},
     "output_type": "display_data"
    }
   ],
   "source": [
    "# get the maturity dates\n",
    "scheme_ac[\"Year\"] = scheme_ac[\"Maturity Date\"].dt.year\n",
    "scheme_ac[\"Year\"] = scheme_ac[\"Year\"].astype(\"int64\")"
   ]
  },
  {
   "cell_type": "code",
   "execution_count": 10,
   "metadata": {},
   "outputs": [
    {
     "data": {
      "application/javascript": [
       "\n",
       "            setTimeout(function() {\n",
       "                var nbb_cell_id = 10;\n",
       "                var nbb_formatted_code = \"# create a dictionary to replace the column values\\nmonth_dict = dict(\\n    {\\n        1: \\\"January\\\",\\n        2: \\\"February\\\",\\n        3: \\\"March\\\",\\n        4: \\\"April\\\",\\n        5: \\\"May\\\",\\n        6: \\\"June\\\",\\n        7: \\\"July\\\",\\n        8: \\\"August\\\",\\n        9: \\\"September\\\",\\n        10: \\\"October\\\",\\n        11: \\\"November\\\",\\n        12: \\\"December\\\",\\n    }\\n)\";\n",
       "                var nbb_cells = Jupyter.notebook.get_cells();\n",
       "                for (var i = 0; i < nbb_cells.length; ++i) {\n",
       "                    if (nbb_cells[i].input_prompt_number == nbb_cell_id) {\n",
       "                        nbb_cells[i].set_text(nbb_formatted_code);\n",
       "                        break;\n",
       "                    }\n",
       "                }\n",
       "            }, 500);\n",
       "            "
      ],
      "text/plain": [
       "<IPython.core.display.Javascript object>"
      ]
     },
     "metadata": {},
     "output_type": "display_data"
    }
   ],
   "source": [
    "# create a dictionary to replace the column values\n",
    "month_dict = dict(\n",
    "    {\n",
    "        1: \"January\",\n",
    "        2: \"February\",\n",
    "        3: \"March\",\n",
    "        4: \"April\",\n",
    "        5: \"May\",\n",
    "        6: \"June\",\n",
    "        7: \"July\",\n",
    "        8: \"August\",\n",
    "        9: \"September\",\n",
    "        10: \"October\",\n",
    "        11: \"November\",\n",
    "        12: \"December\",\n",
    "    }\n",
    ")"
   ]
  },
  {
   "cell_type": "code",
   "execution_count": 11,
   "metadata": {},
   "outputs": [
    {
     "data": {
      "application/javascript": [
       "\n",
       "            setTimeout(function() {\n",
       "                var nbb_cell_id = 11;\n",
       "                var nbb_formatted_code = \"# replace month numbers with month names\\nscheme_ac[\\\"Month\\\"] = scheme_ac[\\\"Month\\\"].replace(month_dict)\";\n",
       "                var nbb_cells = Jupyter.notebook.get_cells();\n",
       "                for (var i = 0; i < nbb_cells.length; ++i) {\n",
       "                    if (nbb_cells[i].input_prompt_number == nbb_cell_id) {\n",
       "                        nbb_cells[i].set_text(nbb_formatted_code);\n",
       "                        break;\n",
       "                    }\n",
       "                }\n",
       "            }, 500);\n",
       "            "
      ],
      "text/plain": [
       "<IPython.core.display.Javascript object>"
      ]
     },
     "metadata": {},
     "output_type": "display_data"
    }
   ],
   "source": [
    "# replace month numbers with month names\n",
    "scheme_ac[\"Month\"] = scheme_ac[\"Month\"].replace(month_dict)"
   ]
  },
  {
   "cell_type": "code",
   "execution_count": 12,
   "metadata": {},
   "outputs": [
    {
     "data": {
      "application/javascript": [
       "\n",
       "            setTimeout(function() {\n",
       "                var nbb_cell_id = 12;\n",
       "                var nbb_formatted_code = \"# create a list to manage the order\\nmonths = [\\n    \\\"January\\\",\\n    \\\"February\\\",\\n    \\\"March\\\",\\n    \\\"April\\\",\\n    \\\"May\\\",\\n    \\\"June\\\",\\n    \\\"July\\\",\\n    \\\"August\\\",\\n    \\\"September\\\",\\n    \\\"October\\\",\\n    \\\"November\\\",\\n    \\\"December\\\",\\n]\";\n",
       "                var nbb_cells = Jupyter.notebook.get_cells();\n",
       "                for (var i = 0; i < nbb_cells.length; ++i) {\n",
       "                    if (nbb_cells[i].input_prompt_number == nbb_cell_id) {\n",
       "                        nbb_cells[i].set_text(nbb_formatted_code);\n",
       "                        break;\n",
       "                    }\n",
       "                }\n",
       "            }, 500);\n",
       "            "
      ],
      "text/plain": [
       "<IPython.core.display.Javascript object>"
      ]
     },
     "metadata": {},
     "output_type": "display_data"
    }
   ],
   "source": [
    "# create a list to manage the order\n",
    "months = [\n",
    "    \"January\",\n",
    "    \"February\",\n",
    "    \"March\",\n",
    "    \"April\",\n",
    "    \"May\",\n",
    "    \"June\",\n",
    "    \"July\",\n",
    "    \"August\",\n",
    "    \"September\",\n",
    "    \"October\",\n",
    "    \"November\",\n",
    "    \"December\",\n",
    "]"
   ]
  },
  {
   "cell_type": "code",
   "execution_count": 13,
   "metadata": {},
   "outputs": [
    {
     "data": {
      "application/javascript": [
       "\n",
       "            setTimeout(function() {\n",
       "                var nbb_cell_id = 13;\n",
       "                var nbb_formatted_code = \"# tell pandas to maintain the order of the previously declared list\\nscheme_ac[\\\"Month\\\"] = pd.Categorical(scheme_ac[\\\"Month\\\"], categories=months, ordered=True)\";\n",
       "                var nbb_cells = Jupyter.notebook.get_cells();\n",
       "                for (var i = 0; i < nbb_cells.length; ++i) {\n",
       "                    if (nbb_cells[i].input_prompt_number == nbb_cell_id) {\n",
       "                        nbb_cells[i].set_text(nbb_formatted_code);\n",
       "                        break;\n",
       "                    }\n",
       "                }\n",
       "            }, 500);\n",
       "            "
      ],
      "text/plain": [
       "<IPython.core.display.Javascript object>"
      ]
     },
     "metadata": {},
     "output_type": "display_data"
    }
   ],
   "source": [
    "# tell pandas to maintain the order of the previously declared list\n",
    "scheme_ac[\"Month\"] = pd.Categorical(scheme_ac[\"Month\"], categories=months, ordered=True)"
   ]
  },
  {
   "cell_type": "code",
   "execution_count": 14,
   "metadata": {},
   "outputs": [
    {
     "data": {
      "application/javascript": [
       "\n",
       "            setTimeout(function() {\n",
       "                var nbb_cell_id = 14;\n",
       "                var nbb_formatted_code = \"# create the summary table\\nsummary_1 = scheme_ac.groupby([\\\"Year\\\", \\\"Month\\\"])[\\\"Current Balance\\\"].agg(\\n    [\\\"count\\\", \\\"sum\\\"]\\n)\\nsummary_1 = summary_1.reset_index()\\nsummary_1 = summary_1.rename(columns={\\\"count\\\": \\\"NO_OF_AC\\\", \\\"sum\\\": \\\"TOTAL_BALANCE\\\"})\";\n",
       "                var nbb_cells = Jupyter.notebook.get_cells();\n",
       "                for (var i = 0; i < nbb_cells.length; ++i) {\n",
       "                    if (nbb_cells[i].input_prompt_number == nbb_cell_id) {\n",
       "                        nbb_cells[i].set_text(nbb_formatted_code);\n",
       "                        break;\n",
       "                    }\n",
       "                }\n",
       "            }, 500);\n",
       "            "
      ],
      "text/plain": [
       "<IPython.core.display.Javascript object>"
      ]
     },
     "metadata": {},
     "output_type": "display_data"
    }
   ],
   "source": [
    "# create the summary table\n",
    "summary_1 = scheme_ac.groupby([\"Year\", \"Month\"])[\"Current Balance\"].agg(\n",
    "    [\"count\", \"sum\"]\n",
    ")\n",
    "summary_1 = summary_1.reset_index()\n",
    "summary_1 = summary_1.rename(columns={\"count\": \"NO_OF_AC\", \"sum\": \"TOTAL_BALANCE\"})"
   ]
  },
  {
   "cell_type": "code",
   "execution_count": 15,
   "metadata": {},
   "outputs": [
    {
     "data": {
      "text/html": [
       "<div>\n",
       "<style scoped>\n",
       "    .dataframe tbody tr th:only-of-type {\n",
       "        vertical-align: middle;\n",
       "    }\n",
       "\n",
       "    .dataframe tbody tr th {\n",
       "        vertical-align: top;\n",
       "    }\n",
       "\n",
       "    .dataframe thead th {\n",
       "        text-align: right;\n",
       "    }\n",
       "</style>\n",
       "<table border=\"1\" class=\"dataframe\">\n",
       "  <thead>\n",
       "    <tr style=\"text-align: right;\">\n",
       "      <th>Year</th>\n",
       "      <th>2013</th>\n",
       "      <th>2014</th>\n",
       "      <th>2015</th>\n",
       "      <th>2016</th>\n",
       "      <th>2017</th>\n",
       "      <th>2018</th>\n",
       "      <th>2019</th>\n",
       "      <th>2020</th>\n",
       "      <th>2021</th>\n",
       "      <th>2022</th>\n",
       "      <th>2023</th>\n",
       "      <th>2024</th>\n",
       "      <th>2025</th>\n",
       "      <th>2026</th>\n",
       "      <th>2027</th>\n",
       "      <th>2028</th>\n",
       "    </tr>\n",
       "    <tr>\n",
       "      <th>Month</th>\n",
       "      <th></th>\n",
       "      <th></th>\n",
       "      <th></th>\n",
       "      <th></th>\n",
       "      <th></th>\n",
       "      <th></th>\n",
       "      <th></th>\n",
       "      <th></th>\n",
       "      <th></th>\n",
       "      <th></th>\n",
       "      <th></th>\n",
       "      <th></th>\n",
       "      <th></th>\n",
       "      <th></th>\n",
       "      <th></th>\n",
       "      <th></th>\n",
       "    </tr>\n",
       "  </thead>\n",
       "  <tbody>\n",
       "    <tr>\n",
       "      <th>January</th>\n",
       "      <td>0.00</td>\n",
       "      <td>40610.92</td>\n",
       "      <td>80450.71</td>\n",
       "      <td>0.00</td>\n",
       "      <td>253185.49</td>\n",
       "      <td>5.114333e+05</td>\n",
       "      <td>1.978450e+09</td>\n",
       "      <td>80563988.11</td>\n",
       "      <td>30465929.40</td>\n",
       "      <td>48549671.05</td>\n",
       "      <td>10299515.55</td>\n",
       "      <td>2295117.36</td>\n",
       "      <td>9233053.06</td>\n",
       "      <td>13323547.07</td>\n",
       "      <td>22446942.86</td>\n",
       "      <td>15253478.20</td>\n",
       "    </tr>\n",
       "    <tr>\n",
       "      <th>February</th>\n",
       "      <td>0.00</td>\n",
       "      <td>855796.78</td>\n",
       "      <td>4348.98</td>\n",
       "      <td>0.00</td>\n",
       "      <td>201055.62</td>\n",
       "      <td>0.000000e+00</td>\n",
       "      <td>1.984846e+09</td>\n",
       "      <td>70731931.63</td>\n",
       "      <td>43035595.39</td>\n",
       "      <td>46413839.75</td>\n",
       "      <td>6192186.30</td>\n",
       "      <td>4216085.64</td>\n",
       "      <td>6970191.91</td>\n",
       "      <td>9776403.91</td>\n",
       "      <td>13613396.35</td>\n",
       "      <td>12809160.52</td>\n",
       "    </tr>\n",
       "    <tr>\n",
       "      <th>March</th>\n",
       "      <td>0.00</td>\n",
       "      <td>23727.06</td>\n",
       "      <td>850.00</td>\n",
       "      <td>14346.15</td>\n",
       "      <td>45763.97</td>\n",
       "      <td>0.000000e+00</td>\n",
       "      <td>1.276285e+09</td>\n",
       "      <td>42505207.04</td>\n",
       "      <td>30940727.12</td>\n",
       "      <td>24170146.40</td>\n",
       "      <td>3494040.49</td>\n",
       "      <td>1698414.24</td>\n",
       "      <td>7012705.71</td>\n",
       "      <td>7079953.19</td>\n",
       "      <td>11710816.71</td>\n",
       "      <td>9701980.79</td>\n",
       "    </tr>\n",
       "    <tr>\n",
       "      <th>April</th>\n",
       "      <td>0.00</td>\n",
       "      <td>94007.45</td>\n",
       "      <td>0.00</td>\n",
       "      <td>0.00</td>\n",
       "      <td>0.00</td>\n",
       "      <td>0.000000e+00</td>\n",
       "      <td>1.000594e+09</td>\n",
       "      <td>36582056.56</td>\n",
       "      <td>23768915.11</td>\n",
       "      <td>14190947.07</td>\n",
       "      <td>5267744.92</td>\n",
       "      <td>2783578.35</td>\n",
       "      <td>4065833.90</td>\n",
       "      <td>9084723.59</td>\n",
       "      <td>12908035.07</td>\n",
       "      <td>6638255.84</td>\n",
       "    </tr>\n",
       "    <tr>\n",
       "      <th>May</th>\n",
       "      <td>0.00</td>\n",
       "      <td>38052.82</td>\n",
       "      <td>1450.30</td>\n",
       "      <td>3704.53</td>\n",
       "      <td>0.00</td>\n",
       "      <td>0.000000e+00</td>\n",
       "      <td>3.014537e+08</td>\n",
       "      <td>41226939.33</td>\n",
       "      <td>21628592.05</td>\n",
       "      <td>17784139.02</td>\n",
       "      <td>1365117.84</td>\n",
       "      <td>1566918.27</td>\n",
       "      <td>7257436.26</td>\n",
       "      <td>10611774.66</td>\n",
       "      <td>8287445.00</td>\n",
       "      <td>224436.95</td>\n",
       "    </tr>\n",
       "    <tr>\n",
       "      <th>June</th>\n",
       "      <td>0.00</td>\n",
       "      <td>96260.08</td>\n",
       "      <td>1437.86</td>\n",
       "      <td>363173.85</td>\n",
       "      <td>0.00</td>\n",
       "      <td>0.000000e+00</td>\n",
       "      <td>3.250853e+08</td>\n",
       "      <td>24074916.98</td>\n",
       "      <td>25661716.94</td>\n",
       "      <td>11006225.66</td>\n",
       "      <td>3735502.77</td>\n",
       "      <td>1934167.85</td>\n",
       "      <td>3904615.58</td>\n",
       "      <td>8831547.76</td>\n",
       "      <td>5929605.15</td>\n",
       "      <td>0.00</td>\n",
       "    </tr>\n",
       "    <tr>\n",
       "      <th>July</th>\n",
       "      <td>0.00</td>\n",
       "      <td>1030.45</td>\n",
       "      <td>0.00</td>\n",
       "      <td>0.00</td>\n",
       "      <td>0.00</td>\n",
       "      <td>0.000000e+00</td>\n",
       "      <td>2.148133e+08</td>\n",
       "      <td>32339062.47</td>\n",
       "      <td>39325444.92</td>\n",
       "      <td>12373903.67</td>\n",
       "      <td>974701.32</td>\n",
       "      <td>2372285.00</td>\n",
       "      <td>3493179.99</td>\n",
       "      <td>12126726.53</td>\n",
       "      <td>9960387.35</td>\n",
       "      <td>0.00</td>\n",
       "    </tr>\n",
       "    <tr>\n",
       "      <th>August</th>\n",
       "      <td>0.00</td>\n",
       "      <td>0.00</td>\n",
       "      <td>0.00</td>\n",
       "      <td>78616.46</td>\n",
       "      <td>0.00</td>\n",
       "      <td>1.331568e+05</td>\n",
       "      <td>1.816868e+08</td>\n",
       "      <td>34477012.66</td>\n",
       "      <td>49675313.79</td>\n",
       "      <td>6473911.95</td>\n",
       "      <td>859171.20</td>\n",
       "      <td>4022429.85</td>\n",
       "      <td>3827082.17</td>\n",
       "      <td>18871700.58</td>\n",
       "      <td>10961699.48</td>\n",
       "      <td>0.00</td>\n",
       "    </tr>\n",
       "    <tr>\n",
       "      <th>September</th>\n",
       "      <td>155177.66</td>\n",
       "      <td>0.00</td>\n",
       "      <td>0.00</td>\n",
       "      <td>131388.58</td>\n",
       "      <td>0.00</td>\n",
       "      <td>1.543346e+08</td>\n",
       "      <td>1.556072e+08</td>\n",
       "      <td>24652472.68</td>\n",
       "      <td>21496002.50</td>\n",
       "      <td>8939892.02</td>\n",
       "      <td>1295294.61</td>\n",
       "      <td>5024472.12</td>\n",
       "      <td>7162360.31</td>\n",
       "      <td>11991819.88</td>\n",
       "      <td>8986018.79</td>\n",
       "      <td>0.00</td>\n",
       "    </tr>\n",
       "    <tr>\n",
       "      <th>October</th>\n",
       "      <td>39080.97</td>\n",
       "      <td>2984.14</td>\n",
       "      <td>0.00</td>\n",
       "      <td>55488.95</td>\n",
       "      <td>0.00</td>\n",
       "      <td>9.521014e+08</td>\n",
       "      <td>5.915886e+07</td>\n",
       "      <td>27380948.31</td>\n",
       "      <td>29754785.41</td>\n",
       "      <td>5869184.45</td>\n",
       "      <td>1056809.58</td>\n",
       "      <td>4643155.24</td>\n",
       "      <td>6944883.97</td>\n",
       "      <td>12624545.23</td>\n",
       "      <td>7644944.93</td>\n",
       "      <td>0.00</td>\n",
       "    </tr>\n",
       "    <tr>\n",
       "      <th>November</th>\n",
       "      <td>1817796.13</td>\n",
       "      <td>19222.14</td>\n",
       "      <td>0.00</td>\n",
       "      <td>49165.82</td>\n",
       "      <td>7054.24</td>\n",
       "      <td>2.574176e+09</td>\n",
       "      <td>5.443178e+07</td>\n",
       "      <td>27249361.92</td>\n",
       "      <td>17331467.96</td>\n",
       "      <td>5150622.92</td>\n",
       "      <td>1152566.46</td>\n",
       "      <td>4254877.39</td>\n",
       "      <td>6802256.62</td>\n",
       "      <td>11153672.27</td>\n",
       "      <td>8385657.62</td>\n",
       "      <td>0.00</td>\n",
       "    </tr>\n",
       "    <tr>\n",
       "      <th>December</th>\n",
       "      <td>139620.73</td>\n",
       "      <td>4948.98</td>\n",
       "      <td>716.60</td>\n",
       "      <td>55459.01</td>\n",
       "      <td>0.00</td>\n",
       "      <td>1.232491e+09</td>\n",
       "      <td>4.909548e+07</td>\n",
       "      <td>16570600.11</td>\n",
       "      <td>19499732.72</td>\n",
       "      <td>3805520.71</td>\n",
       "      <td>867239.26</td>\n",
       "      <td>1941874.17</td>\n",
       "      <td>6177477.04</td>\n",
       "      <td>10972952.66</td>\n",
       "      <td>7807517.05</td>\n",
       "      <td>0.00</td>\n",
       "    </tr>\n",
       "  </tbody>\n",
       "</table>\n",
       "</div>"
      ],
      "text/plain": [
       "Year             2013       2014      2015       2016       2017  \\\n",
       "Month                                                              \n",
       "January          0.00   40610.92  80450.71       0.00  253185.49   \n",
       "February         0.00  855796.78   4348.98       0.00  201055.62   \n",
       "March            0.00   23727.06    850.00   14346.15   45763.97   \n",
       "April            0.00   94007.45      0.00       0.00       0.00   \n",
       "May              0.00   38052.82   1450.30    3704.53       0.00   \n",
       "June             0.00   96260.08   1437.86  363173.85       0.00   \n",
       "July             0.00    1030.45      0.00       0.00       0.00   \n",
       "August           0.00       0.00      0.00   78616.46       0.00   \n",
       "September   155177.66       0.00      0.00  131388.58       0.00   \n",
       "October      39080.97    2984.14      0.00   55488.95       0.00   \n",
       "November   1817796.13   19222.14      0.00   49165.82    7054.24   \n",
       "December    139620.73    4948.98    716.60   55459.01       0.00   \n",
       "\n",
       "Year               2018          2019         2020         2021         2022  \\\n",
       "Month                                                                          \n",
       "January    5.114333e+05  1.978450e+09  80563988.11  30465929.40  48549671.05   \n",
       "February   0.000000e+00  1.984846e+09  70731931.63  43035595.39  46413839.75   \n",
       "March      0.000000e+00  1.276285e+09  42505207.04  30940727.12  24170146.40   \n",
       "April      0.000000e+00  1.000594e+09  36582056.56  23768915.11  14190947.07   \n",
       "May        0.000000e+00  3.014537e+08  41226939.33  21628592.05  17784139.02   \n",
       "June       0.000000e+00  3.250853e+08  24074916.98  25661716.94  11006225.66   \n",
       "July       0.000000e+00  2.148133e+08  32339062.47  39325444.92  12373903.67   \n",
       "August     1.331568e+05  1.816868e+08  34477012.66  49675313.79   6473911.95   \n",
       "September  1.543346e+08  1.556072e+08  24652472.68  21496002.50   8939892.02   \n",
       "October    9.521014e+08  5.915886e+07  27380948.31  29754785.41   5869184.45   \n",
       "November   2.574176e+09  5.443178e+07  27249361.92  17331467.96   5150622.92   \n",
       "December   1.232491e+09  4.909548e+07  16570600.11  19499732.72   3805520.71   \n",
       "\n",
       "Year              2023        2024        2025         2026         2027  \\\n",
       "Month                                                                      \n",
       "January    10299515.55  2295117.36  9233053.06  13323547.07  22446942.86   \n",
       "February    6192186.30  4216085.64  6970191.91   9776403.91  13613396.35   \n",
       "March       3494040.49  1698414.24  7012705.71   7079953.19  11710816.71   \n",
       "April       5267744.92  2783578.35  4065833.90   9084723.59  12908035.07   \n",
       "May         1365117.84  1566918.27  7257436.26  10611774.66   8287445.00   \n",
       "June        3735502.77  1934167.85  3904615.58   8831547.76   5929605.15   \n",
       "July         974701.32  2372285.00  3493179.99  12126726.53   9960387.35   \n",
       "August       859171.20  4022429.85  3827082.17  18871700.58  10961699.48   \n",
       "September   1295294.61  5024472.12  7162360.31  11991819.88   8986018.79   \n",
       "October     1056809.58  4643155.24  6944883.97  12624545.23   7644944.93   \n",
       "November    1152566.46  4254877.39  6802256.62  11153672.27   8385657.62   \n",
       "December     867239.26  1941874.17  6177477.04  10972952.66   7807517.05   \n",
       "\n",
       "Year              2028  \n",
       "Month                   \n",
       "January    15253478.20  \n",
       "February   12809160.52  \n",
       "March       9701980.79  \n",
       "April       6638255.84  \n",
       "May          224436.95  \n",
       "June              0.00  \n",
       "July              0.00  \n",
       "August            0.00  \n",
       "September         0.00  \n",
       "October           0.00  \n",
       "November          0.00  \n",
       "December          0.00  "
      ]
     },
     "execution_count": 15,
     "metadata": {},
     "output_type": "execute_result"
    },
    {
     "data": {
      "application/javascript": [
       "\n",
       "            setTimeout(function() {\n",
       "                var nbb_cell_id = 15;\n",
       "                var nbb_formatted_code = \"# now turn the data frame into a pivot table and change the month number to month name using the remane (dictionary)\\nsummary_1.pivot(index=\\\"Month\\\", columns=\\\"Year\\\", values=\\\"TOTAL_BALANCE\\\").fillna(0)\";\n",
       "                var nbb_cells = Jupyter.notebook.get_cells();\n",
       "                for (var i = 0; i < nbb_cells.length; ++i) {\n",
       "                    if (nbb_cells[i].input_prompt_number == nbb_cell_id) {\n",
       "                        nbb_cells[i].set_text(nbb_formatted_code);\n",
       "                        break;\n",
       "                    }\n",
       "                }\n",
       "            }, 500);\n",
       "            "
      ],
      "text/plain": [
       "<IPython.core.display.Javascript object>"
      ]
     },
     "metadata": {},
     "output_type": "display_data"
    }
   ],
   "source": [
    "# now turn the data frame into a pivot table and change the month number to month name using the remane (dictionary)\n",
    "summary_1.pivot(index=\"Month\", columns=\"Year\", values=\"TOTAL_BALANCE\").fillna(0)"
   ]
  }
 ],
 "metadata": {
  "kernelspec": {
   "display_name": "Python 3",
   "language": "python",
   "name": "python3"
  },
  "language_info": {
   "codemirror_mode": {
    "name": "ipython",
    "version": 3
   },
   "file_extension": ".py",
   "mimetype": "text/x-python",
   "name": "python",
   "nbconvert_exporter": "python",
   "pygments_lexer": "ipython3",
   "version": "3.7.3"
  }
 },
 "nbformat": 4,
 "nbformat_minor": 2
}
